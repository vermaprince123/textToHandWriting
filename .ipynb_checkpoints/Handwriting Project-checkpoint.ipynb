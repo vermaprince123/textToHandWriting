{
 "cells": [
  {
   "cell_type": "markdown",
   "id": "d98dfcdf",
   "metadata": {},
   "source": [
    "# Text to Handwriting  Convertor"
   ]
  },
  {
   "cell_type": "code",
   "execution_count": 9,
   "id": "445c4e6f",
   "metadata": {},
   "outputs": [],
   "source": [
    "import pywhatkit as pw\n",
    "pw.text_to_handwriting(\"My name is prince verma. i am a very good boy.\", rgb=(0,0,245))"
   ]
  },
  {
   "cell_type": "code",
   "execution_count": null,
   "id": "24679bac",
   "metadata": {},
   "outputs": [],
   "source": []
  }
 ],
 "metadata": {
  "kernelspec": {
   "display_name": "Python 3",
   "language": "python",
   "name": "python3"
  },
  "language_info": {
   "codemirror_mode": {
    "name": "ipython",
    "version": 3
   },
   "file_extension": ".py",
   "mimetype": "text/x-python",
   "name": "python",
   "nbconvert_exporter": "python",
   "pygments_lexer": "ipython3",
   "version": "3.8.8"
  }
 },
 "nbformat": 4,
 "nbformat_minor": 5
}
